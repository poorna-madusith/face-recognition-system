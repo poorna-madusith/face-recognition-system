{
 "cells": [
  {
   "cell_type": "code",
   "execution_count": 16,
   "id": "16b6d17d-688c-4ebb-b2ba-c7aaf4b88faf",
   "metadata": {},
   "outputs": [],
   "source": [
    "import tkinter as tk\n",
    "from tkinter import ttk\n"
   ]
  },
  {
   "cell_type": "code",
   "execution_count": null,
   "id": "90deeab7-00be-41c0-93d8-401a395a9952",
   "metadata": {},
   "outputs": [],
   "source": [
    "root = tk.Tk()\n",
    "root.geometry(\"600x400\")\n",
    "root.title(\"Face Recognizer\")\n",
    "root.configure(bg=\"gray\")\n",
    "root.resizable(False, False)\n",
    "\n",
    "label = tk.Label(root, text=\"WELCOME TO FACE RECOGNIZER...\", font=('Times New Roman', 20, 'bold'), bg=\"gray\")\n",
    "label.pack(padx=40, pady=20)\n",
    "\n",
    "# Add a label for camera selection\n",
    "camera_label = tk.Label(root, text=\"Select Camera:\", font=('Times New Roman', 15, 'bold'), bg=\"gray\")\n",
    "camera_label.pack(pady=10)\n",
    "\n",
    "# Add a dropdown (combobox) for selecting webcam or external cam\n",
    "camera_options = [\"Webcam\", \"External Cam\"]\n",
    "camera_select = ttk.Combobox(root, values=camera_options, font=('Georgia', 14), state=\"readonly\")\n",
    "camera_select.current(0)  # Set default to 'Webcam'\n",
    "camera_select.pack(pady=20)\n",
    "\n",
    "# Login button\n",
    "login_button = tk.Button(root, text=\"Detect Face\", font=('Georgia', 14, 'bold'), bg=\"white\")\n",
    "login_button.pack(pady=10)\n",
    "\n",
    "label = tk.Label(root, text=\"or\", font=('Times New Roman', 15, 'bold'), bg=\"gray\")\n",
    "label.pack(padx=5, pady=5)\n",
    "\n",
    "# Add Face button\n",
    "create_button = tk.Button(root, text=\"Add Face\", font=('Georgia', 14, 'bold'), bg=\"white\")\n",
    "create_button.pack()\n",
    "\n",
    "root.mainloop()"
   ]
  },
  {
   "cell_type": "code",
   "execution_count": null,
   "id": "dcd2b9ad-9bd9-47ef-a9e3-2c5d3c4684c1",
   "metadata": {},
   "outputs": [],
   "source": []
  },
  {
   "cell_type": "code",
   "execution_count": null,
   "id": "e42669fa-4e56-4f2e-bc58-180e16923761",
   "metadata": {},
   "outputs": [],
   "source": []
  },
  {
   "cell_type": "code",
   "execution_count": null,
   "id": "2ccbf8a9-773f-49f3-a34d-9904a2bf5619",
   "metadata": {},
   "outputs": [],
   "source": []
  },
  {
   "cell_type": "code",
   "execution_count": 1,
   "id": "6cee2c37-ee21-419e-b01c-ab156c6cfe92",
   "metadata": {},
   "outputs": [],
   "source": [
    "import cv2"
   ]
  },
  {
   "cell_type": "code",
   "execution_count": 2,
   "id": "4bb83e72-722f-4674-b8d7-bb2e4145dead",
   "metadata": {},
   "outputs": [
    {
     "name": "stdout",
     "output_type": "stream",
     "text": [
      "Completed...\n"
     ]
    }
   ],
   "source": [
    "\n",
    "def generate_dataset():\n",
    "    face_classifier = cv2.CascadeClassifier(\"haarcascade_frontalface_default.xml\")\n",
    "    \n",
    "    def face_cropped(img):\n",
    "        gray = cv2.cvtColor(img, cv2.COLOR_BGR2GRAY)\n",
    "        faces = face_classifier.detectMultiScale(gray, 1.3, 5)\n",
    "\n",
    "        if len(faces) == 0:  # Check if no faces are detected\n",
    "            return None\n",
    "        \n",
    "        for (x, y, w, h) in faces:  # Correct w and h instead of x and h\n",
    "            cropped_face = img[y:y+h, x:x+w]\n",
    "            return cropped_face  # Return cropped face\n",
    "\n",
    "    cap = cv2.VideoCapture(0)\n",
    "    id = 1\n",
    "    img_id = 0\n",
    "\n",
    "    while True:\n",
    "        ret, frame = cap.read()\n",
    "        cropped = face_cropped(frame)  # Call face_cropped and store in 'cropped'\n",
    "        \n",
    "        if cropped is not None:  # Only proceed if a face is detected\n",
    "            img_id += 1\n",
    "            face = cv2.resize(cropped, (200, 200))  # Resize the cropped face\n",
    "            face = cv2.cvtColor(face, cv2.COLOR_BGR2GRAY)\n",
    "            \n",
    "            file_path = \"data/user.\" + str(id) + \".\" + str(img_id) + \".jpg\"\n",
    "            cv2.imwrite(file_path, face)\n",
    "\n",
    "            cv2.putText(face, str(img_id), (50, 50), cv2.FONT_HERSHEY_COMPLEX, 1, (0, 255, 0), 2)\n",
    "\n",
    "            cv2.imshow(\"Cropped face\", face)\n",
    "            if cv2.waitKey(1) == 13 or int(img_id) == 1000:\n",
    "                break\n",
    "\n",
    "    cap.release()\n",
    "    cv2.destroyAllWindows()\n",
    "    print(\"Completed...\")\n",
    "\n",
    "generate_dataset()\n"
   ]
  },
  {
   "cell_type": "code",
   "execution_count": 3,
   "id": "5b86e23a-51e8-4ded-a9ef-438dcca6cae6",
   "metadata": {},
   "outputs": [
    {
     "name": "stdout",
     "output_type": "stream",
     "text": [
      "Requirement already satisfied: numpy in c:\\users\\poorn\\anaconda33\\lib\\site-packages (1.26.4)\n"
     ]
    }
   ],
   "source": [
    "!pip install numpy"
   ]
  },
  {
   "cell_type": "code",
   "execution_count": 4,
   "id": "3a38b37e-4d7a-46e9-899d-87ab20971f13",
   "metadata": {},
   "outputs": [
    {
     "name": "stdout",
     "output_type": "stream",
     "text": [
      "Requirement already satisfied: pillow in c:\\users\\poorn\\anaconda33\\lib\\site-packages (10.3.0)\n"
     ]
    }
   ],
   "source": [
    "!pip install pillow"
   ]
  },
  {
   "cell_type": "code",
   "execution_count": 5,
   "id": "b519422f-6686-4636-8a51-81f3deccd339",
   "metadata": {},
   "outputs": [
    {
     "name": "stdout",
     "output_type": "stream",
     "text": [
      "Requirement already satisfied: opencv-contrib-python in c:\\users\\poorn\\appdata\\roaming\\python\\python312\\site-packages (4.10.0.84)\n",
      "Requirement already satisfied: numpy>=1.21.2 in c:\\users\\poorn\\anaconda33\\lib\\site-packages (from opencv-contrib-python) (1.26.4)\n"
     ]
    }
   ],
   "source": [
    "!pip install opencv-contrib-python --user\n"
   ]
  },
  {
   "cell_type": "code",
   "execution_count": 6,
   "id": "6785414d-37f2-4418-b6d4-60c0661c86f3",
   "metadata": {},
   "outputs": [],
   "source": [
    "import numpy as np\n",
    "from PIL import Image\n",
    "import os\n",
    "import cv2"
   ]
  },
  {
   "cell_type": "code",
   "execution_count": 7,
   "id": "77990855-579d-4379-9d9d-98616dfbc87e",
   "metadata": {},
   "outputs": [],
   "source": [
    "def train_classifier(data_dir):\n",
    "    path = [os.path.join(data_dir, f) for f in os.listdir(data_dir)]\n",
    "    faces = []\n",
    "    ids = []\n",
    "\n",
    "    for image in path:\n",
    "        img = Image.open(image).convert('L')  # Convert to grayscale\n",
    "        imageNp = np.array(img, 'uint8')  # Convert image to numpy array\n",
    "        id = int(os.path.split(image)[1].split(\".\")[1])  # Extract ID from image filename\n",
    "\n",
    "        faces.append(imageNp)\n",
    "        ids.append(id)\n",
    "    ids = np.array(ids)\n",
    "\n",
    "    # Initialize the LBPH face recognizer\n",
    "    clf = cv2.face.LBPHFaceRecognizer_create()\n",
    "    \n",
    "    # Train the classifier on the faces and IDs\n",
    "    clf.train(faces, ids)\n",
    "    \n",
    "    # Save the trained model to a file\n",
    "    clf.write(\"classifier.xml\")\n",
    "\n",
    "# Call the function\n",
    "train_classifier(\"data\")\n"
   ]
  },
  {
   "cell_type": "code",
   "execution_count": 8,
   "id": "edb5269d-d852-413f-beda-7c7a860e342b",
   "metadata": {},
   "outputs": [
    {
     "name": "stdout",
     "output_type": "stream",
     "text": [
      "Requirement already satisfied: opencv-contrib-python in c:\\users\\poorn\\appdata\\roaming\\python\\python312\\site-packages (4.10.0.84)\n",
      "Requirement already satisfied: numpy>=1.21.2 in c:\\users\\poorn\\anaconda33\\lib\\site-packages (from opencv-contrib-python) (1.26.4)\n"
     ]
    }
   ],
   "source": [
    "!pip install opencv-contrib-python --user\n"
   ]
  },
  {
   "cell_type": "code",
   "execution_count": 9,
   "id": "a1b4edab-5e51-4bf2-a070-2b8dce91ce72",
   "metadata": {},
   "outputs": [],
   "source": [
    "import cv2\n",
    "import numpy as np\n",
    "from PIL import Image\n",
    "import os"
   ]
  },
  {
   "cell_type": "code",
   "execution_count": 11,
   "id": "66d1f70b-b818-4393-8bfe-72990bad7189",
   "metadata": {},
   "outputs": [],
   "source": [
    "def draw_boundary(image, classifier, scaleFactor, minNeighbors, color, text, clf):\n",
    "    gray_image = cv2.cvtColor(image, cv2.COLOR_BGR2GRAY)\n",
    "    features = classifier.detectMultiScale(gray_image, scaleFactor, minNeighbors)\n",
    "\n",
    "    coords = []\n",
    "    for (x, y, w, h) in features:\n",
    "        cv2.rectangle(image, (x, y), (x+w, y+h), color, 2)\n",
    "        \n",
    "        # Only predict if the region is valid and contains enough pixels\n",
    "        if w > 0 and h > 0:\n",
    "            id, pred = clf.predict(gray_image[y:y+h, x:x+w])  # Correct slicing here\n",
    "            confidence = int(100 * (1 - pred / 300))\n",
    "            \n",
    "            if confidence > 72:\n",
    "                if id == 1:\n",
    "                    cv2.putText(image, \"poorna\", (x, y-5), cv2.FONT_HERSHEY_SIMPLEX, 0.8, color, 1, cv2.LINE_AA)\n",
    "            else:\n",
    "                cv2.putText(image, \"unknown\", (x, y-5), cv2.FONT_HERSHEY_SIMPLEX, 0.8, color, 1, cv2.LINE_AA)\n",
    "\n",
    "        coords = [x, y, w, h]\n",
    "    return coords\n",
    "\n",
    "def recognize(img, classifier, faceCascade):\n",
    "    coords = draw_boundary(img, faceCascade, 1.1, 10, (255, 255, 255), \"face\", clf)\n",
    "    return img\n",
    "\n",
    "faceCascade = cv2.CascadeClassifier(\"haarcascade_frontalface_default.xml\")\n",
    "clf = cv2.face.LBPHFaceRecognizer_create()\n",
    "clf.read(\"classifier.xml\")\n",
    "\n",
    "video_capture = cv2.VideoCapture(0)\n",
    "\n",
    "while True:\n",
    "    ret, img = video_capture.read()\n",
    "    img = recognize(img, clf, faceCascade)\n",
    "    cv2.imshow(\"face detection\", img)\n",
    "\n",
    "    if cv2.waitKey(1) == 13:  # Press Enter to exit\n",
    "        break\n",
    "\n",
    "video_capture.release()\n",
    "cv2.destroyAllWindows()\n"
   ]
  },
  {
   "cell_type": "code",
   "execution_count": null,
   "id": "aa35da16-13e7-49be-ac7b-cbfe005fe92f",
   "metadata": {},
   "outputs": [],
   "source": []
  }
 ],
 "metadata": {
  "kernelspec": {
   "display_name": "Python 3 (ipykernel)",
   "language": "python",
   "name": "python3"
  },
  "language_info": {
   "codemirror_mode": {
    "name": "ipython",
    "version": 3
   },
   "file_extension": ".py",
   "mimetype": "text/x-python",
   "name": "python",
   "nbconvert_exporter": "python",
   "pygments_lexer": "ipython3",
   "version": "3.12.4"
  }
 },
 "nbformat": 4,
 "nbformat_minor": 5
}
